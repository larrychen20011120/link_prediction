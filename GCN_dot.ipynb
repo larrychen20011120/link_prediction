{
  "nbformat": 4,
  "nbformat_minor": 0,
  "metadata": {
    "colab": {
      "provenance": []
    },
    "kernelspec": {
      "name": "python3",
      "display_name": "Python 3"
    },
    "language_info": {
      "name": "python"
    },
    "accelerator": "GPU",
    "gpuClass": "standard",
    "widgets": {
      "application/vnd.jupyter.widget-state+json": {
        "4e86eb76fc6a4d8998a79a5d70452f59": {
          "model_module": "@jupyter-widgets/controls",
          "model_name": "HBoxModel",
          "model_module_version": "1.5.0",
          "state": {
            "_dom_classes": [],
            "_model_module": "@jupyter-widgets/controls",
            "_model_module_version": "1.5.0",
            "_model_name": "HBoxModel",
            "_view_count": null,
            "_view_module": "@jupyter-widgets/controls",
            "_view_module_version": "1.5.0",
            "_view_name": "HBoxView",
            "box_style": "",
            "children": [
              "IPY_MODEL_72fdfb0187714f2bb0931fd09fe5ca82",
              "IPY_MODEL_571b4cd2b7c443f3858d4b13fd2453f5",
              "IPY_MODEL_3a78626691be4a6cbcc31ffd2e80fa9d"
            ],
            "layout": "IPY_MODEL_77d95a84d3df4e6baee3465a7caf198c"
          }
        },
        "72fdfb0187714f2bb0931fd09fe5ca82": {
          "model_module": "@jupyter-widgets/controls",
          "model_name": "HTMLModel",
          "model_module_version": "1.5.0",
          "state": {
            "_dom_classes": [],
            "_model_module": "@jupyter-widgets/controls",
            "_model_module_version": "1.5.0",
            "_model_name": "HTMLModel",
            "_view_count": null,
            "_view_module": "@jupyter-widgets/controls",
            "_view_module_version": "1.5.0",
            "_view_name": "HTMLView",
            "description": "",
            "description_tooltip": null,
            "layout": "IPY_MODEL_cc4136817883410e888dd735627eff68",
            "placeholder": "​",
            "style": "IPY_MODEL_8cf6a568ebe5427d808d4536659c2dc8",
            "value": "100%"
          }
        },
        "571b4cd2b7c443f3858d4b13fd2453f5": {
          "model_module": "@jupyter-widgets/controls",
          "model_name": "FloatProgressModel",
          "model_module_version": "1.5.0",
          "state": {
            "_dom_classes": [],
            "_model_module": "@jupyter-widgets/controls",
            "_model_module_version": "1.5.0",
            "_model_name": "FloatProgressModel",
            "_view_count": null,
            "_view_module": "@jupyter-widgets/controls",
            "_view_module_version": "1.5.0",
            "_view_name": "ProgressView",
            "bar_style": "success",
            "description": "",
            "description_tooltip": null,
            "layout": "IPY_MODEL_4ddfc9d138c7443aad1764f8dc9d9810",
            "max": 5,
            "min": 0,
            "orientation": "horizontal",
            "style": "IPY_MODEL_549c1636c67b440ea5cdf828df15de19",
            "value": 5
          }
        },
        "3a78626691be4a6cbcc31ffd2e80fa9d": {
          "model_module": "@jupyter-widgets/controls",
          "model_name": "HTMLModel",
          "model_module_version": "1.5.0",
          "state": {
            "_dom_classes": [],
            "_model_module": "@jupyter-widgets/controls",
            "_model_module_version": "1.5.0",
            "_model_name": "HTMLModel",
            "_view_count": null,
            "_view_module": "@jupyter-widgets/controls",
            "_view_module_version": "1.5.0",
            "_view_name": "HTMLView",
            "description": "",
            "description_tooltip": null,
            "layout": "IPY_MODEL_58cf7025a624497ea602b5a1f38c0588",
            "placeholder": "​",
            "style": "IPY_MODEL_fd6f9a742372443c997f7a2a4886e198",
            "value": " 5/5 [00:49&lt;00:00,  9.17s/it]"
          }
        },
        "77d95a84d3df4e6baee3465a7caf198c": {
          "model_module": "@jupyter-widgets/base",
          "model_name": "LayoutModel",
          "model_module_version": "1.2.0",
          "state": {
            "_model_module": "@jupyter-widgets/base",
            "_model_module_version": "1.2.0",
            "_model_name": "LayoutModel",
            "_view_count": null,
            "_view_module": "@jupyter-widgets/base",
            "_view_module_version": "1.2.0",
            "_view_name": "LayoutView",
            "align_content": null,
            "align_items": null,
            "align_self": null,
            "border": null,
            "bottom": null,
            "display": null,
            "flex": null,
            "flex_flow": null,
            "grid_area": null,
            "grid_auto_columns": null,
            "grid_auto_flow": null,
            "grid_auto_rows": null,
            "grid_column": null,
            "grid_gap": null,
            "grid_row": null,
            "grid_template_areas": null,
            "grid_template_columns": null,
            "grid_template_rows": null,
            "height": null,
            "justify_content": null,
            "justify_items": null,
            "left": null,
            "margin": null,
            "max_height": null,
            "max_width": null,
            "min_height": null,
            "min_width": null,
            "object_fit": null,
            "object_position": null,
            "order": null,
            "overflow": null,
            "overflow_x": null,
            "overflow_y": null,
            "padding": null,
            "right": null,
            "top": null,
            "visibility": null,
            "width": null
          }
        },
        "cc4136817883410e888dd735627eff68": {
          "model_module": "@jupyter-widgets/base",
          "model_name": "LayoutModel",
          "model_module_version": "1.2.0",
          "state": {
            "_model_module": "@jupyter-widgets/base",
            "_model_module_version": "1.2.0",
            "_model_name": "LayoutModel",
            "_view_count": null,
            "_view_module": "@jupyter-widgets/base",
            "_view_module_version": "1.2.0",
            "_view_name": "LayoutView",
            "align_content": null,
            "align_items": null,
            "align_self": null,
            "border": null,
            "bottom": null,
            "display": null,
            "flex": null,
            "flex_flow": null,
            "grid_area": null,
            "grid_auto_columns": null,
            "grid_auto_flow": null,
            "grid_auto_rows": null,
            "grid_column": null,
            "grid_gap": null,
            "grid_row": null,
            "grid_template_areas": null,
            "grid_template_columns": null,
            "grid_template_rows": null,
            "height": null,
            "justify_content": null,
            "justify_items": null,
            "left": null,
            "margin": null,
            "max_height": null,
            "max_width": null,
            "min_height": null,
            "min_width": null,
            "object_fit": null,
            "object_position": null,
            "order": null,
            "overflow": null,
            "overflow_x": null,
            "overflow_y": null,
            "padding": null,
            "right": null,
            "top": null,
            "visibility": null,
            "width": null
          }
        },
        "8cf6a568ebe5427d808d4536659c2dc8": {
          "model_module": "@jupyter-widgets/controls",
          "model_name": "DescriptionStyleModel",
          "model_module_version": "1.5.0",
          "state": {
            "_model_module": "@jupyter-widgets/controls",
            "_model_module_version": "1.5.0",
            "_model_name": "DescriptionStyleModel",
            "_view_count": null,
            "_view_module": "@jupyter-widgets/base",
            "_view_module_version": "1.2.0",
            "_view_name": "StyleView",
            "description_width": ""
          }
        },
        "4ddfc9d138c7443aad1764f8dc9d9810": {
          "model_module": "@jupyter-widgets/base",
          "model_name": "LayoutModel",
          "model_module_version": "1.2.0",
          "state": {
            "_model_module": "@jupyter-widgets/base",
            "_model_module_version": "1.2.0",
            "_model_name": "LayoutModel",
            "_view_count": null,
            "_view_module": "@jupyter-widgets/base",
            "_view_module_version": "1.2.0",
            "_view_name": "LayoutView",
            "align_content": null,
            "align_items": null,
            "align_self": null,
            "border": null,
            "bottom": null,
            "display": null,
            "flex": null,
            "flex_flow": null,
            "grid_area": null,
            "grid_auto_columns": null,
            "grid_auto_flow": null,
            "grid_auto_rows": null,
            "grid_column": null,
            "grid_gap": null,
            "grid_row": null,
            "grid_template_areas": null,
            "grid_template_columns": null,
            "grid_template_rows": null,
            "height": null,
            "justify_content": null,
            "justify_items": null,
            "left": null,
            "margin": null,
            "max_height": null,
            "max_width": null,
            "min_height": null,
            "min_width": null,
            "object_fit": null,
            "object_position": null,
            "order": null,
            "overflow": null,
            "overflow_x": null,
            "overflow_y": null,
            "padding": null,
            "right": null,
            "top": null,
            "visibility": null,
            "width": null
          }
        },
        "549c1636c67b440ea5cdf828df15de19": {
          "model_module": "@jupyter-widgets/controls",
          "model_name": "ProgressStyleModel",
          "model_module_version": "1.5.0",
          "state": {
            "_model_module": "@jupyter-widgets/controls",
            "_model_module_version": "1.5.0",
            "_model_name": "ProgressStyleModel",
            "_view_count": null,
            "_view_module": "@jupyter-widgets/base",
            "_view_module_version": "1.2.0",
            "_view_name": "StyleView",
            "bar_color": null,
            "description_width": ""
          }
        },
        "58cf7025a624497ea602b5a1f38c0588": {
          "model_module": "@jupyter-widgets/base",
          "model_name": "LayoutModel",
          "model_module_version": "1.2.0",
          "state": {
            "_model_module": "@jupyter-widgets/base",
            "_model_module_version": "1.2.0",
            "_model_name": "LayoutModel",
            "_view_count": null,
            "_view_module": "@jupyter-widgets/base",
            "_view_module_version": "1.2.0",
            "_view_name": "LayoutView",
            "align_content": null,
            "align_items": null,
            "align_self": null,
            "border": null,
            "bottom": null,
            "display": null,
            "flex": null,
            "flex_flow": null,
            "grid_area": null,
            "grid_auto_columns": null,
            "grid_auto_flow": null,
            "grid_auto_rows": null,
            "grid_column": null,
            "grid_gap": null,
            "grid_row": null,
            "grid_template_areas": null,
            "grid_template_columns": null,
            "grid_template_rows": null,
            "height": null,
            "justify_content": null,
            "justify_items": null,
            "left": null,
            "margin": null,
            "max_height": null,
            "max_width": null,
            "min_height": null,
            "min_width": null,
            "object_fit": null,
            "object_position": null,
            "order": null,
            "overflow": null,
            "overflow_x": null,
            "overflow_y": null,
            "padding": null,
            "right": null,
            "top": null,
            "visibility": null,
            "width": null
          }
        },
        "fd6f9a742372443c997f7a2a4886e198": {
          "model_module": "@jupyter-widgets/controls",
          "model_name": "DescriptionStyleModel",
          "model_module_version": "1.5.0",
          "state": {
            "_model_module": "@jupyter-widgets/controls",
            "_model_module_version": "1.5.0",
            "_model_name": "DescriptionStyleModel",
            "_view_count": null,
            "_view_module": "@jupyter-widgets/base",
            "_view_module_version": "1.2.0",
            "_view_name": "StyleView",
            "description_width": ""
          }
        }
      }
    }
  },
  "cells": [
    {
      "cell_type": "code",
      "execution_count": 77,
      "metadata": {
        "id": "Pw5dYqo8IQj5",
        "colab": {
          "base_uri": "https://localhost:8080/"
        },
        "outputId": "0c0933e3-0c26-41cd-e0ec-550b9b4c9409"
      },
      "outputs": [
        {
          "output_type": "stream",
          "name": "stdout",
          "text": [
            "Drive already mounted at /content/gdrive; to attempt to forcibly remount, call drive.mount(\"/content/gdrive\", force_remount=True).\n"
          ]
        }
      ],
      "source": [
        "from google.colab import drive\n",
        "drive.mount('/content/gdrive')"
      ]
    },
    {
      "cell_type": "code",
      "source": [
        "!nvidia-smi"
      ],
      "metadata": {
        "id": "wQTcThZSJQVi",
        "colab": {
          "base_uri": "https://localhost:8080/"
        },
        "outputId": "e418c6c2-e4a3-40bd-e816-b8fc624402e9"
      },
      "execution_count": 78,
      "outputs": [
        {
          "output_type": "stream",
          "name": "stdout",
          "text": [
            "Sun Apr 23 14:23:28 2023       \n",
            "+-----------------------------------------------------------------------------+\n",
            "| NVIDIA-SMI 525.85.12    Driver Version: 525.85.12    CUDA Version: 12.0     |\n",
            "|-------------------------------+----------------------+----------------------+\n",
            "| GPU  Name        Persistence-M| Bus-Id        Disp.A | Volatile Uncorr. ECC |\n",
            "| Fan  Temp  Perf  Pwr:Usage/Cap|         Memory-Usage | GPU-Util  Compute M. |\n",
            "|                               |                      |               MIG M. |\n",
            "|===============================+======================+======================|\n",
            "|   0  Tesla T4            Off  | 00000000:00:04.0 Off |                    0 |\n",
            "| N/A   71C    P0    31W /  70W |   1033MiB / 15360MiB |      0%      Default |\n",
            "|                               |                      |                  N/A |\n",
            "+-------------------------------+----------------------+----------------------+\n",
            "                                                                               \n",
            "+-----------------------------------------------------------------------------+\n",
            "| Processes:                                                                  |\n",
            "|  GPU   GI   CI        PID   Type   Process name                  GPU Memory |\n",
            "|        ID   ID                                                   Usage      |\n",
            "|=============================================================================|\n",
            "+-----------------------------------------------------------------------------+\n"
          ]
        }
      ]
    },
    {
      "cell_type": "code",
      "source": [
        "!pip install pyg_lib torch_scatter torch_sparse torch_cluster torch_spline_conv -f https://data.pyg.org/whl/torch-2.0.0+cu118.html\n",
        "!pip install torch_geometric"
      ],
      "metadata": {
        "id": "c1K6afZ_JSjy",
        "colab": {
          "base_uri": "https://localhost:8080/"
        },
        "outputId": "73472f99-a7ea-47f3-c6d1-c367c2d41a05"
      },
      "execution_count": 79,
      "outputs": [
        {
          "output_type": "stream",
          "name": "stdout",
          "text": [
            "Looking in indexes: https://pypi.org/simple, https://us-python.pkg.dev/colab-wheels/public/simple/\n",
            "Looking in links: https://data.pyg.org/whl/torch-2.0.0+cu118.html\n",
            "Requirement already satisfied: pyg_lib in /usr/local/lib/python3.9/dist-packages (0.2.0+pt20cu118)\n",
            "Requirement already satisfied: torch_scatter in /usr/local/lib/python3.9/dist-packages (2.1.1+pt20cu118)\n",
            "Requirement already satisfied: torch_sparse in /usr/local/lib/python3.9/dist-packages (0.6.17+pt20cu118)\n",
            "Requirement already satisfied: torch_cluster in /usr/local/lib/python3.9/dist-packages (1.6.1+pt20cu118)\n",
            "Requirement already satisfied: torch_spline_conv in /usr/local/lib/python3.9/dist-packages (1.2.2+pt20cu118)\n",
            "Requirement already satisfied: scipy in /usr/local/lib/python3.9/dist-packages (from torch_sparse) (1.10.1)\n",
            "Requirement already satisfied: numpy<1.27.0,>=1.19.5 in /usr/local/lib/python3.9/dist-packages (from scipy->torch_sparse) (1.22.4)\n",
            "Looking in indexes: https://pypi.org/simple, https://us-python.pkg.dev/colab-wheels/public/simple/\n",
            "Requirement already satisfied: torch_geometric in /usr/local/lib/python3.9/dist-packages (2.3.0)\n",
            "Requirement already satisfied: jinja2 in /usr/local/lib/python3.9/dist-packages (from torch_geometric) (3.1.2)\n",
            "Requirement already satisfied: psutil>=5.8.0 in /usr/local/lib/python3.9/dist-packages (from torch_geometric) (5.9.5)\n",
            "Requirement already satisfied: tqdm in /usr/local/lib/python3.9/dist-packages (from torch_geometric) (4.65.0)\n",
            "Requirement already satisfied: scikit-learn in /usr/local/lib/python3.9/dist-packages (from torch_geometric) (1.2.2)\n",
            "Requirement already satisfied: scipy in /usr/local/lib/python3.9/dist-packages (from torch_geometric) (1.10.1)\n",
            "Requirement already satisfied: numpy in /usr/local/lib/python3.9/dist-packages (from torch_geometric) (1.22.4)\n",
            "Requirement already satisfied: requests in /usr/local/lib/python3.9/dist-packages (from torch_geometric) (2.27.1)\n",
            "Requirement already satisfied: pyparsing in /usr/local/lib/python3.9/dist-packages (from torch_geometric) (3.0.9)\n",
            "Requirement already satisfied: MarkupSafe>=2.0 in /usr/local/lib/python3.9/dist-packages (from jinja2->torch_geometric) (2.1.2)\n",
            "Requirement already satisfied: certifi>=2017.4.17 in /usr/local/lib/python3.9/dist-packages (from requests->torch_geometric) (2022.12.7)\n",
            "Requirement already satisfied: urllib3<1.27,>=1.21.1 in /usr/local/lib/python3.9/dist-packages (from requests->torch_geometric) (1.26.15)\n",
            "Requirement already satisfied: idna<4,>=2.5 in /usr/local/lib/python3.9/dist-packages (from requests->torch_geometric) (3.4)\n",
            "Requirement already satisfied: charset-normalizer~=2.0.0 in /usr/local/lib/python3.9/dist-packages (from requests->torch_geometric) (2.0.12)\n",
            "Requirement already satisfied: threadpoolctl>=2.0.0 in /usr/local/lib/python3.9/dist-packages (from scikit-learn->torch_geometric) (3.1.0)\n",
            "Requirement already satisfied: joblib>=1.1.1 in /usr/local/lib/python3.9/dist-packages (from scikit-learn->torch_geometric) (1.2.0)\n"
          ]
        }
      ]
    },
    {
      "cell_type": "code",
      "source": [
        "import pandas as pd\n",
        "import numpy as np\n",
        "import matplotlib.pyplot as plt\n",
        "import random\n",
        "import torch\n",
        "import networkx as nx\n",
        "from tqdm.notebook import trange, tqdm\n",
        "from torch import nn\n",
        "from torch_geometric.nn import GCNConv\n",
        "from torch_geometric.data import Data\n",
        "from sklearn.metrics import average_precision_score, roc_auc_score\n",
        "from sklearn.model_selection import train_test_split\n",
        "from sklearn.decomposition import PCA"
      ],
      "metadata": {
        "id": "zxNwS5ORJXT9"
      },
      "execution_count": 80,
      "outputs": []
    },
    {
      "cell_type": "code",
      "source": [
        "plt.style.use('ggplot')"
      ],
      "metadata": {
        "id": "XxrAo1z7Jbql"
      },
      "execution_count": 81,
      "outputs": []
    },
    {
      "cell_type": "code",
      "source": [
        "train_df = pd.read_csv('/content/gdrive/MyDrive/hw2_data/dataset1/train.csv')\n",
        "print(train_df.describe())\n",
        "print(train_df.head())\n",
        "print()\n",
        "print(f\"There are {train_df[train_df['label']==1]['id'].count()} edges in training graph.\")\n",
        "print(f\"There are {train_df['to'].unique().max()} vertices in the training graph.\")"
      ],
      "metadata": {
        "id": "n_q_sQCFJtSz",
        "colab": {
          "base_uri": "https://localhost:8080/"
        },
        "outputId": "3dfea726-9d9d-4562-edea-a10d72d14180"
      },
      "execution_count": 82,
      "outputs": [
        {
          "output_type": "stream",
          "name": "stdout",
          "text": [
            "                to         from        label\n",
            "count  8686.000000  8686.000000  8686.000000\n",
            "mean   1350.108335  1363.374511     0.497813\n",
            "std     774.818411   789.594499     0.500024\n",
            "min       0.000000     1.000000     0.000000\n",
            "25%     672.000000   673.000000     0.000000\n",
            "50%    1374.500000  1374.000000     0.000000\n",
            "75%    2031.000000  2056.750000     1.000000\n",
            "max    2707.000000  2707.000000     1.000000\n",
            "       id    to  from  label\n",
            "0  E10311  2399  2339      0\n",
            "1  E10255  2397  1144      1\n",
            "2  E10667   854  1726      0\n",
            "3   E9395   872   702      0\n",
            "4   E5926  2450  1312      1\n",
            "\n",
            "There are 4324 edges in training graph.\n",
            "There are 2707 vertices in the training graph.\n"
          ]
        }
      ]
    },
    {
      "cell_type": "code",
      "source": [
        "with open(\"/content/gdrive/MyDrive/hw2_data/dataset1/content.csv\", 'r') as f:\n",
        "    lines = f.readlines()\n",
        "    attributes = [ [] for _ in range(len(lines)) ]\n",
        "    for line in lines:\n",
        "        line = line.split()\n",
        "        line = list( map(int, line) )\n",
        "        attributes[line[0]].extend(line[1:])\n",
        "\n",
        "attributes = np.array(attributes)\n",
        "print(f\"There are {attributes.shape[0]} nodes\")\n",
        "print(f\"There are {attributes.shape[1]} attributes per node\")"
      ],
      "metadata": {
        "id": "kAOqhP2fJt7G",
        "colab": {
          "base_uri": "https://localhost:8080/"
        },
        "outputId": "8c508ffb-7056-48cc-c2ec-bfe873b38321"
      },
      "execution_count": 83,
      "outputs": [
        {
          "output_type": "stream",
          "name": "stdout",
          "text": [
            "There are 2708 nodes\n",
            "There are 1433 attributes per node\n"
          ]
        }
      ]
    },
    {
      "cell_type": "code",
      "source": [
        "class KFold:\n",
        "\n",
        "    def __init__(self, graph, edges, no_edges, k=5):\n",
        "        self.k = k\n",
        "        # since positive and negative samples are not in same size\n",
        "        self.fold_size_pos = len(edges) // k\n",
        "        self.fold_size_neg = len(no_edges) // k\n",
        "        # create the full graph without removing any edges\n",
        "        self.origin_graph = graph\n",
        "\n",
        "        # shuffle the positive and negative edges\n",
        "        random.shuffle(edges)\n",
        "        random.shuffle(no_edges)\n",
        "        self.pos_edges = edges\n",
        "        self.neg_edges = no_edges\n",
        "\n",
        "\n",
        "    def get_fold(self, fold):\n",
        "        if fold >= self.k:\n",
        "            print(\"Out of the boundary!!\")\n",
        "        else:\n",
        "            subgraph = self.origin_graph.copy()\n",
        "            subgraph.remove_edges_from(\n",
        "                self.pos_edges[fold*self.fold_size_pos: (fold+1)*self.fold_size_pos]\n",
        "            )\n",
        "            pos_samples = self.pos_edges[fold*self.fold_size_pos: (fold+1)*self.fold_size_pos]\n",
        "            neg_samples = self.neg_edges[fold*self.fold_size_neg: (fold+1)*self.fold_size_neg]\n",
        "\n",
        "            return subgraph, pos_samples, neg_samples\n",
        "            \n",
        "    def get_k(self):\n",
        "        return self.k"
      ],
      "metadata": {
        "id": "8bdFYtuxJz3T"
      },
      "execution_count": 84,
      "outputs": []
    },
    {
      "cell_type": "code",
      "source": [
        "class LinkData:\n",
        "    def __init__(self, X, y, batch_size='whole'):\n",
        "        if batch_size == 'whole':\n",
        "            self.batch_size = len(y)\n",
        "        else:\n",
        "            self.batch_size = batch_size\n",
        "        self.X = torch.tensor(X)\n",
        "        self.y = torch.tensor(y)\n",
        "        self.total_size = len(y)\n",
        "    def __getitem__(self, i):\n",
        "        if i >= self.__len__():\n",
        "            raise IndexError('End')\n",
        "        return self.X[i*self.batch_size: (i+1)*self.batch_size], self.y[i*self.batch_size: (i+1)*self.batch_size]\n",
        "    def __len__(self):\n",
        "        return int(self.total_size/self.batch_size)\n",
        "    def get_size(self):\n",
        "        return self.total_size"
      ],
      "metadata": {
        "id": "P9rJMMRBc32p"
      },
      "execution_count": 85,
      "outputs": []
    },
    {
      "cell_type": "code",
      "source": [
        "class GCNEncoder(nn.Module):\n",
        "    def __init__(self, channel_in, channel_hidden, channel_out, hidden_num=1):\n",
        "        super().__init__()\n",
        "        gcns = []\n",
        "        self.acts = nn.ModuleList( [ nn.LeakyReLU() for _ in range(hidden_num) ] )\n",
        "        gcns.append( GCNConv(channel_in, channel_hidden) )\n",
        "        for _ in range(hidden_num-1):\n",
        "            gcns.append( GCNConv(channel_hidden, channel_hidden) ) \n",
        "        gcns.append( GCNConv(channel_hidden, channel_out) )\n",
        "        self.gcns = nn.ModuleList(gcns)\n",
        "        self.hidden_num = hidden_num\n",
        "\n",
        "    def forward(self, x, edge_idx):\n",
        "        for i in range(self.hidden_num):\n",
        "            x = self.gcns[i](x, edge_idx)\n",
        "            x = self.acts[i](x)\n",
        "        x = self.gcns[-1](x, edge_idx)\n",
        "        return x\n",
        "\n",
        "class E2ELinkModel(nn.Module):\n",
        "    def __init__(self, channel_in, channel_hidden, channel_out, hidden_num=3):\n",
        "        super().__init__()\n",
        "        self.encoder = GCNEncoder(channel_in, channel_hidden, channel_out, hidden_num)\n",
        "        self.sigmoid = nn.Sigmoid()\n",
        "        \"\"\"for mlp\n",
        "        self.mlp = nn.Linear(channel_out, 1)\n",
        "        \"\"\"\n",
        "        \n",
        "\n",
        "    def forward(self, graph_data, node1, node2):\n",
        "        z = self.encoder(graph_data.x, graph_data.edge_index)\n",
        "        x = self.predict_from_embed(z, node1, node2)\n",
        "        return x\n",
        "    def get_embed(self, graph_data):\n",
        "        return self.encoder(graph_data.x, graph_data.edge_index)\n",
        "\n",
        "    def predict_from_embed(self, z, node1, node2):\n",
        "        \n",
        "        z = z[node1] * z[node2]\n",
        "        x = z.sum(dim=-1)\n",
        "        \"\"\"for mlp\n",
        "        x = self.mlp(z).flatten()\n",
        "        \"\"\" \n",
        "        return x\n",
        "        \n",
        "    def predict_proba_from_embed(self, z, node1, node2):\n",
        "        x = self.predict_from_embed(z, node1, node2)\n",
        "        return self.sigmoid(x)"
      ],
      "metadata": {
        "id": "6_iV3XrQJ3TP"
      },
      "execution_count": 86,
      "outputs": []
    },
    {
      "cell_type": "code",
      "source": [
        "def train(model, graph_data, train_loader, param, val_loader=None, with_val=False):\n",
        "\n",
        "    device = param['device']\n",
        "   \n",
        "    model.to(device)\n",
        "    optimizer = torch.optim.Adam(model.parameters(),lr=param['lr'])\n",
        "    model.train()\n",
        "    loss_fn = nn.BCEWithLogitsLoss()\n",
        "    for epoch in range(param['epochs']):\n",
        "        total_loss = 0\n",
        "        #print(f\"=========================== {epoch+1} ===========================\")\n",
        "        for X, y_true in train_loader:\n",
        "            # Zero your gradients for every batch!\n",
        "            optimizer.zero_grad()\n",
        "            X, y_true = X.to(device), y_true.to(device)\n",
        "            graph_data = graph_data.to(device)\n",
        "            y_pred = model(graph_data, X[:,0], X[:,1])\n",
        "            loss = loss_fn(y_pred, y_true.float())\n",
        "            loss.backward()\n",
        "            optimizer.step()\n",
        "            total_loss += loss.item()\n",
        "        #print(f\"Training loss ====> {total_loss/train_loader.get_size():.6f}\")\n",
        "    if with_val:\n",
        "        acc, ap = val(model, graph_data, val_loader, param)\n",
        "        return acc, ap\n",
        "    else:\n",
        "        return None, None\n",
        "\n",
        "def val(model, graph_data, loader, param):\n",
        "\n",
        "    device = param['device']\n",
        "    model.to(device)\n",
        "    model.eval()\n",
        "    total_acc, total_ap = 0, 0\n",
        "    with torch.no_grad():\n",
        "        graph_data = graph_data.to(device)\n",
        "        embedding = model.get_embed(graph_data)\n",
        "        for X, y_true in loader:\n",
        "            X, y_true = X.to(device), y_true.to(device)\n",
        "            \n",
        "            y_pred = model.predict_proba_from_embed(embedding, X[:, 0], X[:, 1])\n",
        "            \n",
        "            ap = average_precision_score(\n",
        "                y_true.detach().cpu().numpy().reshape(-1),\n",
        "                y_pred.detach().cpu().numpy().reshape(-1)\n",
        "            )\n",
        "            acc = roc_auc_score(\n",
        "                y_true.detach().cpu().numpy().reshape(-1),\n",
        "                y_pred.detach().cpu().numpy().reshape(-1)\n",
        "            )\n",
        "\n",
        "            total_ap += ap\n",
        "            total_acc += acc\n",
        "\n",
        "    avg_acc, avg_ap = total_acc, total_ap\n",
        "    \n",
        "    print(f\"Validation acc ====> {avg_acc*100:.4f}%\")\n",
        "    print(f\"Validation ap ====> {avg_ap*100:.4f}%\")\n",
        "    \n",
        "    return avg_acc, avg_ap"
      ],
      "metadata": {
        "id": "xax2Strpb5zk"
      },
      "execution_count": 87,
      "outputs": []
    },
    {
      "cell_type": "code",
      "source": [
        "def cross_validation(kfold, **param):\n",
        "\n",
        "    LOSS = []\n",
        "    ACC = []\n",
        "    AP = []\n",
        "    \n",
        "    for fold in trange(kfold.get_k()):\n",
        "        print()\n",
        "        print(f\"=========================== Fold: {fold+1} ===========================\")\n",
        "        # validation on different folds\n",
        "        graph, pos_samples, neg_samples = kfold.get_fold(fold)\n",
        "        \n",
        "        print(\"Preparing Data....\")\n",
        "        # split pos_samples and neg_samples to training classifier and validating (3:1)\n",
        "        train_pos_samples, valid_pos_samples = train_test_split(pos_samples, test_size=.25)\n",
        "        train_neg_samples, valid_neg_samples = train_test_split(neg_samples, test_size=.25)\n",
        "\n",
        "        train_samples = train_pos_samples + train_neg_samples\n",
        "        train_labels = np.array(\n",
        "            [1 for _ in range(len(train_pos_samples))] + [0 for _ in range(len(train_neg_samples))]\n",
        "        )\n",
        "        valid_samples = valid_pos_samples + valid_neg_samples\n",
        "        valid_labels = np.array(\n",
        "            [1 for _ in range(len(valid_pos_samples))] + [0 for _ in range(len(valid_neg_samples))]\n",
        "        )\n",
        "        graph_data = Data(\n",
        "            x=torch.tensor(attributes, dtype=torch.float32), \n",
        "            edge_index=torch.tensor(edge2index(graph.edges), dtype=torch.long)\n",
        "        )\n",
        "\n",
        "        train_loader = LinkData(train_samples, train_labels, batch_size=param['batch_size'])\n",
        "        val_loader = LinkData(valid_samples, valid_labels, batch_size='whole')\n",
        "        model = E2ELinkModel(\n",
        "            CH_IN, CH_HIDDEN, CH_OUT, HIDDEN_NUM\n",
        "        )\n",
        "\n",
        "        acc, ap = train(model, graph_data, train_loader, param, val_loader, with_val=True)\n",
        "\n",
        "        ACC.append(acc)\n",
        "        AP.append(ap)\n",
        "\n",
        "    return ACC, AP\n",
        "\n",
        "def edge2index(edges): # convert networkx edges to pyg edge_indices\n",
        "    edge_idx = [[], []]\n",
        "    for v1, v2 in edges:\n",
        "        edge_idx[0].append(v1)\n",
        "        edge_idx[1].append(v2)\n",
        "        edge_idx[0].append(v2)\n",
        "        edge_idx[1].append(v1)\n",
        "    return edge_idx"
      ],
      "metadata": {
        "id": "GXQYz5ngaHZj"
      },
      "execution_count": 88,
      "outputs": []
    },
    {
      "cell_type": "code",
      "source": [
        "def construct_graph(edges):\n",
        "    graph = nx.Graph()\n",
        "    graph.add_edges_from(edges)\n",
        "    return graph"
      ],
      "metadata": {
        "id": "nXzrznZvnyvr"
      },
      "execution_count": 89,
      "outputs": []
    },
    {
      "cell_type": "code",
      "source": [
        "CH_IN = attributes.shape[1]\n",
        "CH_HIDDEN = 256\n",
        "CH_OUT = 128\n",
        "HIDDEN_NUM = 1\n",
        "param = {\n",
        "    'lr': 1e-5, 'batch_size': 64, 'epochs': 100,\n",
        "    'device': 'cuda:0' if torch.cuda.is_available() else 'cpu'\n",
        "}"
      ],
      "metadata": {
        "id": "wmbfFhu6gF3_"
      },
      "execution_count": 90,
      "outputs": []
    },
    {
      "cell_type": "code",
      "source": [
        "edges = ( train_df[train_df['label']==1][['to', 'from']].apply(tuple, axis=1) ).tolist()\n",
        "no_edges = ( train_df[train_df['label']==0][['to', 'from']].apply(tuple, axis=1) ).tolist()\n",
        "graph = construct_graph(edges)\n",
        "kfold = KFold(graph, edges, no_edges, k=5)"
      ],
      "metadata": {
        "id": "Rhu3kzOcefKc"
      },
      "execution_count": 91,
      "outputs": []
    },
    {
      "cell_type": "code",
      "source": [
        "acc_result, ap_result = cross_validation(kfold, **param)"
      ],
      "metadata": {
        "colab": {
          "base_uri": "https://localhost:8080/",
          "height": 483,
          "referenced_widgets": [
            "4e86eb76fc6a4d8998a79a5d70452f59",
            "72fdfb0187714f2bb0931fd09fe5ca82",
            "571b4cd2b7c443f3858d4b13fd2453f5",
            "3a78626691be4a6cbcc31ffd2e80fa9d",
            "77d95a84d3df4e6baee3465a7caf198c",
            "cc4136817883410e888dd735627eff68",
            "8cf6a568ebe5427d808d4536659c2dc8",
            "4ddfc9d138c7443aad1764f8dc9d9810",
            "549c1636c67b440ea5cdf828df15de19",
            "58cf7025a624497ea602b5a1f38c0588",
            "fd6f9a742372443c997f7a2a4886e198"
          ]
        },
        "id": "6slAlauvi3LU",
        "outputId": "43c5bcf8-af0b-41cd-e97f-c4513053e7ac"
      },
      "execution_count": 92,
      "outputs": [
        {
          "output_type": "display_data",
          "data": {
            "text/plain": [
              "  0%|          | 0/5 [00:00<?, ?it/s]"
            ],
            "application/vnd.jupyter.widget-view+json": {
              "version_major": 2,
              "version_minor": 0,
              "model_id": "4e86eb76fc6a4d8998a79a5d70452f59"
            }
          },
          "metadata": {}
        },
        {
          "output_type": "stream",
          "name": "stdout",
          "text": [
            "\n",
            "=========================== Fold: 1 ===========================\n",
            "Preparing Data....\n",
            "Validation acc ====> 91.9576%\n",
            "Validation ap ====> 91.6088%\n",
            "\n",
            "=========================== Fold: 2 ===========================\n",
            "Preparing Data....\n",
            "Validation acc ====> 88.6595%\n",
            "Validation ap ====> 88.9884%\n",
            "\n",
            "=========================== Fold: 3 ===========================\n",
            "Preparing Data....\n",
            "Validation acc ====> 92.3165%\n",
            "Validation ap ====> 92.7103%\n",
            "\n",
            "=========================== Fold: 4 ===========================\n",
            "Preparing Data....\n",
            "Validation acc ====> 87.6996%\n",
            "Validation ap ====> 86.8188%\n",
            "\n",
            "=========================== Fold: 5 ===========================\n",
            "Preparing Data....\n",
            "Validation acc ====> 91.8238%\n",
            "Validation ap ====> 92.5297%\n"
          ]
        }
      ]
    },
    {
      "cell_type": "code",
      "source": [
        "print(acc_result)\n",
        "print(ap_result)\n",
        "best_fold = np.argmax(acc_result)\n",
        "print(\"Best Fold: {best_fold}\")"
      ],
      "metadata": {
        "colab": {
          "base_uri": "https://localhost:8080/"
        },
        "id": "ulTalercX6C7",
        "outputId": "8b63c15a-8860-4842-a674-ee1c3f32eefd"
      },
      "execution_count": 93,
      "outputs": [
        {
          "output_type": "stream",
          "name": "stdout",
          "text": [
            "[0.9195761128100578, 0.8865953109072374, 0.9231651376146789, 0.8769962623173633, 0.9182381923207611]\n",
            "[0.9160882057208595, 0.8898843264869263, 0.9271032588208117, 0.8681882346078776, 0.925296663334147]\n",
            "Best Fold: {best_fold}\n"
          ]
        }
      ]
    },
    {
      "cell_type": "code",
      "source": [
        "plt.plot(range(5), acc_result, 's-', label='acc')\n",
        "plt.plot(range(5), ap_result, '^-', label='ap')\n",
        "plt.legend()\n",
        "plt.show()"
      ],
      "metadata": {
        "id": "1hZaYMk3paZ9",
        "colab": {
          "base_uri": "https://localhost:8080/",
          "height": 435
        },
        "outputId": "b4fa93ac-910f-4de7-d6e0-078bfcfb8e48"
      },
      "execution_count": 94,
      "outputs": [
        {
          "output_type": "display_data",
          "data": {
            "text/plain": [
              "<Figure size 640x480 with 1 Axes>"
            ],
            "image/png": "[encoded data removed]"
          },
          "metadata": {}
        }
      ]
    },
    {
      "cell_type": "code",
      "source": [
        "model = E2ELinkModel(\n",
        "    CH_IN, CH_HIDDEN, CH_OUT, HIDDEN_NUM\n",
        ")\n",
        "graph, pos_samples, neg_samples = kfold.get_fold(best_fold)\n",
        "\n",
        "train_samples = pos_samples + neg_samples\n",
        "train_labels = np.array(\n",
        "    [1 for _ in range(len(pos_samples))] + [0 for _ in range(len(neg_samples))]\n",
        ")\n",
        "loader = LinkData(train_samples, train_labels, batch_size=param['batch_size'])\n",
        "graph_data = Data(\n",
        "    x=torch.tensor(attributes, dtype=torch.float32), \n",
        "    edge_index=torch.tensor(edge2index(graph.edges), dtype=torch.long)\n",
        ")\n",
        "train(model, graph_data, loader, param)"
      ],
      "metadata": {
        "id": "0GsTUdFpg3ap",
        "colab": {
          "base_uri": "https://localhost:8080/"
        },
        "outputId": "ecbe0a92-e0fc-4de8-cfee-ec3966686e67"
      },
      "execution_count": 95,
      "outputs": [
        {
          "output_type": "execute_result",
          "data": {
            "text/plain": [
              "(None, None)"
            ]
          },
          "metadata": {},
          "execution_count": 95
        }
      ]
    },
    {
      "cell_type": "code",
      "source": [
        "# load test data\n",
        "test_df = pd.read_csv(\"/content/gdrive/MyDrive/hw2_data/dataset1/test.csv\")\n",
        "# testing\n",
        "print(\"Start testing...\")\n",
        "valid_samples = torch.tensor( ( test_df[['to', 'from']].apply(tuple, axis=1) ).tolist() , dtype=torch.long)\n",
        "model.to('cuda:0')\n",
        "z = model.get_embed(graph_data)\n",
        "outputs = model.predict_proba_from_embed(z, valid_samples[:, 0], valid_samples[:, 1])\n",
        "test_df.drop(columns=['to', 'from'])\n",
        "test_df['prob'] = pd.Series(outputs.detach().cpu().numpy())\n",
        "# store the csv\n",
        "test_df.to_csv('/content/gdrive/MyDrive/hw2_data/dataset1/upload.csv', index=False)\n",
        "print(\"finish testing\")"
      ],
      "metadata": {
        "id": "Wzx0wKcBjlmM",
        "colab": {
          "base_uri": "https://localhost:8080/"
        },
        "outputId": "377f7e13-1831-4509-fab4-4f74b0aeb360"
      },
      "execution_count": 96,
      "outputs": [
        {
          "output_type": "stream",
          "name": "stdout",
          "text": [
            "Start testing...\n",
            "finish testing\n"
          ]
        }
      ]
    }
  ]
}