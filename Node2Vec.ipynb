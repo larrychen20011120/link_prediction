{
  "cells": [
    {
      "cell_type": "markdown",
      "metadata": {
        "id": "OiNk07bo73cN"
      },
      "source": [
        "# MLG-HW2 \n",
        "The competition of **link prediction** task in class"
      ]
    },
    {
      "cell_type": "markdown",
      "metadata": {
        "id": "2FYc_8zG8QqL"
      },
      "source": [
        "## connect to google drive"
      ]
    },
    {
      "cell_type": "code",
      "execution_count": 28,
      "metadata": {
        "colab": {
          "base_uri": "https://localhost:8080/"
        },
        "id": "C8CJhmYD8UbR",
        "outputId": "e2477fb2-fb75-4d34-e880-7fe62135c8e3"
      },
      "outputs": [
        {
          "output_type": "stream",
          "name": "stdout",
          "text": [
            "Drive already mounted at /content/gdrive; to attempt to forcibly remount, call drive.mount(\"/content/gdrive\", force_remount=True).\n"
          ]
        }
      ],
      "source": [
        "from google.colab import drive\n",
        "drive.mount('/content/gdrive')"
      ]
    },
    {
      "cell_type": "markdown",
      "source": [
        "## GPU Information\n",
        "if have any gpus"
      ],
      "metadata": {
        "id": "YCHg8a_tpCEZ"
      }
    },
    {
      "cell_type": "code",
      "source": [
        "!nvidia-smi"
      ],
      "metadata": {
        "colab": {
          "base_uri": "https://localhost:8080/"
        },
        "id": "kNCdFqnoo85t",
        "outputId": "d49688fb-97f2-4cec-fb5a-36760c0edcec"
      },
      "execution_count": 29,
      "outputs": [
        {
          "output_type": "stream",
          "name": "stdout",
          "text": [
            "Sun Apr 23 14:39:02 2023       \n",
            "+-----------------------------------------------------------------------------+\n",
            "| NVIDIA-SMI 525.85.12    Driver Version: 525.85.12    CUDA Version: 12.0     |\n",
            "|-------------------------------+----------------------+----------------------+\n",
            "| GPU  Name        Persistence-M| Bus-Id        Disp.A | Volatile Uncorr. ECC |\n",
            "| Fan  Temp  Perf  Pwr:Usage/Cap|         Memory-Usage | GPU-Util  Compute M. |\n",
            "|                               |                      |               MIG M. |\n",
            "|===============================+======================+======================|\n",
            "|   0  Tesla T4            Off  | 00000000:00:04.0 Off |                    0 |\n",
            "| N/A   69C    P0    31W /  70W |   2421MiB / 15360MiB |      0%      Default |\n",
            "|                               |                      |                  N/A |\n",
            "+-------------------------------+----------------------+----------------------+\n",
            "                                                                               \n",
            "+-----------------------------------------------------------------------------+\n",
            "| Processes:                                                                  |\n",
            "|  GPU   GI   CI        PID   Type   Process name                  GPU Memory |\n",
            "|        ID   ID                                                   Usage      |\n",
            "|=============================================================================|\n",
            "+-----------------------------------------------------------------------------+\n"
          ]
        }
      ]
    },
    {
      "cell_type": "markdown",
      "metadata": {
        "id": "NEnyV740731P"
      },
      "source": [
        "## Package dependencies"
      ]
    },
    {
      "cell_type": "code",
      "execution_count": 30,
      "metadata": {
        "colab": {
          "base_uri": "https://localhost:8080/"
        },
        "id": "2I0z2aPiCsSR",
        "outputId": "8a38c0c0-a7f2-4257-dca1-badaebfe364d"
      },
      "outputs": [
        {
          "output_type": "stream",
          "name": "stdout",
          "text": [
            "Looking in indexes: https://pypi.org/simple, https://us-python.pkg.dev/colab-wheels/public/simple/\n",
            "Looking in links: https://data.pyg.org/whl/torch-2.0.0+cu118.html\n",
            "Requirement already satisfied: pyg_lib in /usr/local/lib/python3.9/dist-packages (0.2.0+pt20cu118)\n",
            "Requirement already satisfied: torch_scatter in /usr/local/lib/python3.9/dist-packages (2.1.1+pt20cu118)\n",
            "Requirement already satisfied: torch_sparse in /usr/local/lib/python3.9/dist-packages (0.6.17+pt20cu118)\n",
            "Requirement already satisfied: torch_cluster in /usr/local/lib/python3.9/dist-packages (1.6.1+pt20cu118)\n",
            "Requirement already satisfied: torch_spline_conv in /usr/local/lib/python3.9/dist-packages (1.2.2+pt20cu118)\n",
            "Requirement already satisfied: scipy in /usr/local/lib/python3.9/dist-packages (from torch_sparse) (1.10.1)\n",
            "Requirement already satisfied: numpy<1.27.0,>=1.19.5 in /usr/local/lib/python3.9/dist-packages (from scipy->torch_sparse) (1.22.4)\n",
            "Looking in indexes: https://pypi.org/simple, https://us-python.pkg.dev/colab-wheels/public/simple/\n",
            "Requirement already satisfied: torch_geometric in /usr/local/lib/python3.9/dist-packages (2.3.0)\n",
            "Requirement already satisfied: tqdm in /usr/local/lib/python3.9/dist-packages (from torch_geometric) (4.65.0)\n",
            "Requirement already satisfied: scikit-learn in /usr/local/lib/python3.9/dist-packages (from torch_geometric) (1.2.2)\n",
            "Requirement already satisfied: jinja2 in /usr/local/lib/python3.9/dist-packages (from torch_geometric) (3.1.2)\n",
            "Requirement already satisfied: psutil>=5.8.0 in /usr/local/lib/python3.9/dist-packages (from torch_geometric) (5.9.5)\n",
            "Requirement already satisfied: scipy in /usr/local/lib/python3.9/dist-packages (from torch_geometric) (1.10.1)\n",
            "Requirement already satisfied: numpy in /usr/local/lib/python3.9/dist-packages (from torch_geometric) (1.22.4)\n",
            "Requirement already satisfied: requests in /usr/local/lib/python3.9/dist-packages (from torch_geometric) (2.27.1)\n",
            "Requirement already satisfied: pyparsing in /usr/local/lib/python3.9/dist-packages (from torch_geometric) (3.0.9)\n",
            "Requirement already satisfied: MarkupSafe>=2.0 in /usr/local/lib/python3.9/dist-packages (from jinja2->torch_geometric) (2.1.2)\n",
            "Requirement already satisfied: charset-normalizer~=2.0.0 in /usr/local/lib/python3.9/dist-packages (from requests->torch_geometric) (2.0.12)\n",
            "Requirement already satisfied: certifi>=2017.4.17 in /usr/local/lib/python3.9/dist-packages (from requests->torch_geometric) (2022.12.7)\n",
            "Requirement already satisfied: idna<4,>=2.5 in /usr/local/lib/python3.9/dist-packages (from requests->torch_geometric) (3.4)\n",
            "Requirement already satisfied: urllib3<1.27,>=1.21.1 in /usr/local/lib/python3.9/dist-packages (from requests->torch_geometric) (1.26.15)\n",
            "Requirement already satisfied: joblib>=1.1.1 in /usr/local/lib/python3.9/dist-packages (from scikit-learn->torch_geometric) (1.2.0)\n",
            "Requirement already satisfied: threadpoolctl>=2.0.0 in /usr/local/lib/python3.9/dist-packages (from scikit-learn->torch_geometric) (3.1.0)\n"
          ]
        }
      ],
      "source": [
        "!pip install pyg_lib torch_scatter torch_sparse torch_cluster torch_spline_conv -f https://data.pyg.org/whl/torch-2.0.0+cu118.html\n",
        "!pip install torch_geometric"
      ]
    },
    {
      "cell_type": "code",
      "execution_count": 31,
      "metadata": {
        "id": "DFQUul7Q726C"
      },
      "outputs": [],
      "source": [
        "import pandas as pd\n",
        "import numpy as np\n",
        "import matplotlib.pyplot as plt\n",
        "import random\n",
        "import torch\n",
        "from torch_geometric.nn import Node2Vec\n",
        "import networkx as nx \n",
        "from sklearn.decomposition import PCA\n",
        "from sklearn.metrics import average_precision_score, roc_auc_score\n",
        "from sklearn.model_selection import train_test_split\n",
        "from sklearn.linear_model import LogisticRegression\n",
        "from sklearn.neural_network import MLPClassifier\n",
        "from tqdm.notebook import trange"
      ]
    },
    {
      "cell_type": "markdown",
      "metadata": {
        "id": "18lvmeWfEX4d"
      },
      "source": [
        "### use the ggplot style"
      ]
    },
    {
      "cell_type": "code",
      "execution_count": 32,
      "metadata": {
        "id": "HQhWgcP1EuzD"
      },
      "outputs": [],
      "source": [
        "plt.style.use('ggplot')"
      ]
    },
    {
      "cell_type": "markdown",
      "metadata": {
        "id": "sR3ivPdUHxdU"
      },
      "source": [
        "## Data Explories\n",
        "* There are 4324 edges\n",
        "* There are 2707 vertices in the graph\n",
        "* Most of the features are zeros, since all bars in bar ploting are smaller than .5"
      ]
    },
    {
      "cell_type": "code",
      "execution_count": 33,
      "metadata": {
        "colab": {
          "base_uri": "https://localhost:8080/"
        },
        "id": "OudHQ6LZ6wj9",
        "outputId": "4577c996-d416-41a4-b5e2-d58ab07f3332"
      },
      "outputs": [
        {
          "output_type": "stream",
          "name": "stdout",
          "text": [
            "                to         from        label\n",
            "count  2572.000000  2572.000000  2572.000000\n",
            "mean    439.468896   447.962286     0.494946\n",
            "std     245.571595   251.356563     0.500072\n",
            "min       1.000000     0.000000     0.000000\n",
            "25%     235.000000   227.000000     0.000000\n",
            "50%     445.000000   453.500000     0.000000\n",
            "75%     657.250000   674.000000     1.000000\n",
            "max     875.000000   875.000000     1.000000\n",
            "      id   to  from  label\n",
            "0  E2143  612    59      1\n",
            "1  E1615  843   189      1\n",
            "2  E2103  677   416      1\n",
            "3  E3131  797   506      0\n",
            "4  E1257  175   856      0\n",
            "\n",
            "There are 1273 edges in training graph.\n",
            "There are 875 vertices in the training graph.\n"
          ]
        }
      ],
      "source": [
        "train_df = pd.read_csv('/content/gdrive/MyDrive/hw2_data/dataset3/train.csv')\n",
        "print(train_df.describe())\n",
        "print(train_df.head())\n",
        "print()\n",
        "print(f\"There are {train_df[train_df['label']==1]['id'].count()} edges in training graph.\")\n",
        "print(f\"There are {train_df['to'].unique().max()} vertices in the training graph.\")"
      ]
    },
    {
      "cell_type": "code",
      "execution_count": 34,
      "metadata": {
        "colab": {
          "base_uri": "https://localhost:8080/",
          "height": 430
        },
        "id": "zQnVmGUTDnwc",
        "outputId": "7b749394-216a-47e9-9bc3-2f0895666554"
      },
      "outputs": [
        {
          "output_type": "display_data",
          "data": {
            "text/plain": [
              "<Figure size 640x480 with 1 Axes>"
            ],
            "image/png": "[encoded data removed]"
          },
          "metadata": {}
        }
      ],
      "source": [
        "plt.bar(\n",
        "    x=[0,1],\n",
        "    height=( train_df[train_df['label']==0]['id'].count(), train_df[train_df['label']==1]['id'].count() ),\n",
        "    width=.3, tick_label=('no-edges', 'have-edges')\n",
        ")\n",
        "plt.show()"
      ]
    },
    {
      "cell_type": "code",
      "execution_count": 35,
      "metadata": {
        "colab": {
          "base_uri": "https://localhost:8080/"
        },
        "id": "KRStMvb2H96v",
        "outputId": "20f1ac29-6eb2-4c4c-9ad3-76f75c2470ab"
      },
      "outputs": [
        {
          "output_type": "stream",
          "name": "stdout",
          "text": [
            "There are 877 nodes\n",
            "There are 1703 attributes per node\n"
          ]
        }
      ],
      "source": [
        "with open(\"/content/gdrive/MyDrive/hw2_data/dataset3/content.csv\", 'r') as f:\n",
        "    lines = f.readlines()\n",
        "    attributes = [ [] for _ in range(len(lines)) ]\n",
        "    for line in lines:\n",
        "        line = line.split()\n",
        "        line = list( map(int, line) )\n",
        "        attributes[line[0]].extend(line[1:])\n",
        "\n",
        "attributes = np.array(attributes)\n",
        "print(f\"There are {attributes.shape[0]} nodes\")\n",
        "print(f\"There are {attributes.shape[1]} attributes per node\")"
      ]
    },
    {
      "cell_type": "code",
      "execution_count": 36,
      "metadata": {
        "colab": {
          "base_uri": "https://localhost:8080/",
          "height": 291
        },
        "id": "A_gKlAiWu_6j",
        "outputId": "159222d4-ed9e-43f8-8843-3bc4d89e4ce9"
      },
      "outputs": [
        {
          "output_type": "display_data",
          "data": {
            "text/plain": [
              "<Figure size 1600x300 with 1 Axes>"
            ],
            "image/png": "[encoded data removed]"
          },
          "metadata": {}
        }
      ],
      "source": [
        "plt.figure(figsize=(16, 3))\n",
        "plt.bar(range(attributes.shape[1]), sorted(np.mean(attributes, axis=0), reverse=True))\n",
        "plt.show()"
      ]
    },
    {
      "cell_type": "markdown",
      "metadata": {
        "id": "BoreNrLSftoD"
      },
      "source": [
        "## Split data based on transductive rule\n",
        "> https://zqfang.github.io/2021-08-12-graph-linkpredict/\n",
        "\n",
        "> https://stellargraph.readthedocs.io/en/stable/demos/link-prediction/node2vec-link-prediction.html"
      ]
    },
    {
      "cell_type": "code",
      "execution_count": 37,
      "metadata": {
        "id": "kg8AMgKbrcwF"
      },
      "outputs": [],
      "source": [
        "class KFold:\n",
        "\n",
        "    def __init__(self, graph, edges, no_edges, k=5):\n",
        "        self.k = k\n",
        "        # since positive and negative samples are not in same size\n",
        "        self.fold_size_pos = len(edges) // k\n",
        "        self.fold_size_neg = len(no_edges) // k\n",
        "        # create the full graph without removing any edges\n",
        "        self.origin_graph = graph\n",
        "\n",
        "        # shuffle the positive and negative edges\n",
        "        random.shuffle(edges)\n",
        "        random.shuffle(no_edges)\n",
        "        self.pos_edges = edges\n",
        "        self.neg_edges = no_edges\n",
        "\n",
        "\n",
        "    def get_fold(self, fold):\n",
        "        if fold >= self.k:\n",
        "            print(\"Out of the boundary!!\")\n",
        "        else:\n",
        "            subgraph = self.origin_graph.copy()\n",
        "            subgraph.remove_edges_from(\n",
        "                self.pos_edges[fold*self.fold_size_pos: (fold+1)*self.fold_size_pos]\n",
        "            )\n",
        "            pos_samples = self.pos_edges[fold*self.fold_size_pos: (fold+1)*self.fold_size_pos]\n",
        "            neg_samples = self.neg_edges[fold*self.fold_size_neg: (fold+1)*self.fold_size_neg]\n",
        "\n",
        "            return subgraph, pos_samples, neg_samples\n",
        "            \n",
        "    def get_k(self):\n",
        "        return self.k"
      ]
    },
    {
      "cell_type": "code",
      "source": [
        "def construct_attr_graph(edges, attributes):\n",
        "    graph = nx.Graph()\n",
        "    graph.add_edges_from(edges)\n",
        "    start = len(graph.edges)\n",
        "    attributes = np.argwhere(attributes==1)\n",
        "    for node, attr_node in attributes:\n",
        "        graph.add_edge(node, attr_node+start)\n",
        "    return graph"
      ],
      "metadata": {
        "id": "6Dxp2v1CCjs2"
      },
      "execution_count": 38,
      "outputs": []
    },
    {
      "cell_type": "code",
      "execution_count": 39,
      "metadata": {
        "id": "nqUZUEE5xCL1"
      },
      "outputs": [],
      "source": [
        "def edge2index(edges): # convert networkx edges to pyg edge_indices\n",
        "    edge_idx = [[], []]\n",
        "    for v1, v2 in edges:\n",
        "        edge_idx[0].append(v1)\n",
        "        edge_idx[1].append(v2)\n",
        "        edge_idx[0].append(v2)\n",
        "        edge_idx[1].append(v1)\n",
        "    return edge_idx\n",
        "\n",
        "def train_embed(edges, **param): # this edges is for pyg\n",
        "    model = Node2Vec(\n",
        "        torch.tensor(edges, dtype=torch.long), embedding_dim=param['embed_dim'], p=param['p'], q=param['q'], \n",
        "        walk_length=param['walk_len'], context_size=param['context_size'], walks_per_node=param['walks']   \n",
        "    )\n",
        "    device = param['device']\n",
        "    loader = model.loader(batch_size=param['batch_size'], shuffle=True, num_workers=2)\n",
        "    optimizer = torch.optim.Adam(list(model.parameters()), lr=0.1)\n",
        "    model.to(device)\n",
        "    for epoch in range(20):\n",
        "        model.train()\n",
        "        total_loss = 0\n",
        "        for pos_rw, neg_rw in loader:\n",
        "            optimizer.zero_grad()\n",
        "            loss = model.loss(pos_rw.to(device), neg_rw.to(device))\n",
        "            total_loss += loss\n",
        "            loss.backward()\n",
        "            optimizer.step()\n",
        "        print(f\"Epoch {epoch} loss ===> {total_loss:.6f}\")\n",
        "    return model\n",
        "\n",
        "def L1_dist(u, v):\n",
        "    return np.abs(u-v)\n",
        "def L2_dist(u, v):\n",
        "    return np.square(u-v)\n",
        "def mul(u, v):\n",
        "    return u*v\n",
        "def avg(u, v):\n",
        "    return (u+v)/2\n",
        "\n",
        "def feature_extraction(samples, n2v):\n",
        "    embed_dict = n2v.cpu().state_dict()['embedding.weight'].numpy()\n",
        "    X = np.empty((0, embed_dict.shape[1]))\n",
        "    for v1, v2 in samples:\n",
        "        node_feature = mul(embed_dict[v1], embed_dict[v2])\n",
        "        X = np.vstack( (X, node_feature) )\n",
        "    return X"
      ]
    },
    {
      "cell_type": "markdown",
      "source": [
        "## Ensemble Learning algorithm\n",
        "* Bagging Logistic Regression\n",
        "* Boosting Logistic Regression"
      ],
      "metadata": {
        "id": "PzBSDAXBdy1h"
      }
    },
    {
      "cell_type": "code",
      "source": [
        "class BaggingClassifier:\n",
        "    \n",
        "    def __init__(self, n_samples):\n",
        "        self.n_samples = n_samples\n",
        "        self.clfs = [\n",
        "            LogisticRegression() for _ in range(n_samples)\n",
        "        ]\n",
        "\n",
        "    def fit(self, X, y, sample_proba=.7):\n",
        "        N = len(y)\n",
        "        for clf in self.clfs:\n",
        "            idx = np.random.choice(np.arange(N), int(N*sample_proba), replace=True)\n",
        "            feat = X[idx]\n",
        "            label = y[idx]\n",
        "            clf.fit(feat, label)\n",
        "\n",
        "    def predict_proba(self, X):\n",
        "        result = np.zeros((len(X), 2))\n",
        "        for clf in self.clfs:\n",
        "            result += clf.predict_proba(X);\n",
        "        return result / self.n_samples"
      ],
      "metadata": {
        "id": "hwQ3dFORXfq6"
      },
      "execution_count": 40,
      "outputs": []
    },
    {
      "cell_type": "code",
      "execution_count": 41,
      "metadata": {
        "id": "YjQ_0T6FgKUU"
      },
      "outputs": [],
      "source": [
        "def cross_validation(kfold, **param):\n",
        "\n",
        "    ACC = []\n",
        "    AP = []\n",
        "    \n",
        "    for fold in trange(kfold.get_k()):\n",
        "        print()\n",
        "        # validation on different folds\n",
        "        graph, pos_samples, neg_samples = kfold.get_fold(fold)\n",
        "        # use the subgraph (with removal) to train node2vec\n",
        "        print(\"Training the embedding...\")\n",
        "        n2v = train_embed(edge2index(graph.edges), **param)\n",
        "\n",
        "        # split pos_samples and neg_samples to training classifier and validating (3:1)\n",
        "        train_pos_samples, valid_pos_samples = train_test_split(pos_samples, test_size=.25)\n",
        "        train_neg_samples, valid_neg_samples = train_test_split(neg_samples, test_size=.25)\n",
        "\n",
        "        train_samples = train_pos_samples + train_neg_samples\n",
        "        train_labels = np.array(\n",
        "            [1 for _ in range(len(train_pos_samples))] + [0 for _ in range(len(train_neg_samples))]\n",
        "        )\n",
        "        valid_samples = valid_pos_samples + valid_neg_samples\n",
        "        valid_labels = np.array(\n",
        "            [1 for _ in range(len(valid_pos_samples))] + [0 for _ in range(len(valid_neg_samples))]\n",
        "        )\n",
        "        # create the classifier (ex: logistic regression)\n",
        "        clf = LogisticRegression()\n",
        "        # train classifier\n",
        "        train_X = feature_extraction(train_samples, n2v)\n",
        "        print(\"Training classfier...\")\n",
        "        clf.fit(train_X, train_labels)\n",
        "\n",
        "        # validation\n",
        "        print(\"Start validation...\")\n",
        "        valid_X = feature_extraction(valid_samples, n2v)\n",
        "        outputs = clf.predict_proba(valid_X)\n",
        "        ap = average_precision_score(valid_labels, outputs[:, 1])\n",
        "        acc = roc_auc_score(valid_labels, outputs[:, 1])\n",
        "        print(f\"Average Precision: {ap:.2f}\")\n",
        "        print(f\"ROC_AUC Score:     {acc:.2f}\")\n",
        "        AP.append( ap )\n",
        "        ACC.append( acc )\n",
        "\n",
        "    return ACC, AP\n"
      ]
    },
    {
      "cell_type": "markdown",
      "metadata": {
        "id": "QWNprR9_lK3l"
      },
      "source": [
        "## Running here\n",
        "* setting parameters of node2vec\n",
        "* run the cross validation\n",
        "* finally, run all settings again on the whole graph; that is the origin graph for testing"
      ]
    },
    {
      "cell_type": "code",
      "execution_count": 42,
      "metadata": {
        "id": "9MOUjpzNgKRJ"
      },
      "outputs": [],
      "source": [
        "param = {\n",
        "    'p': 1, 'q': 1, 'embed_dim': 256, 'walks': 10,\n",
        "    'context_size': 10, 'walk_len': 40, 'batch_size': 128, \n",
        "    'device': 'cuda:0' if torch.cuda.is_available() else 'cpu'\n",
        "}"
      ]
    },
    {
      "cell_type": "code",
      "execution_count": 43,
      "metadata": {
        "id": "yWTpiBcald_q"
      },
      "outputs": [],
      "source": [
        "edges = ( train_df[train_df['label']==1][['to', 'from']].apply(tuple, axis=1) ).tolist()\n",
        "no_edges = ( train_df[train_df['label']==0][['to', 'from']].apply(tuple, axis=1) ).tolist()\n",
        "graph = construct_attr_graph(edges, attributes)\n",
        "kfold_embed = KFold(graph, edges, no_edges, k=5)"
      ]
    },
    {
      "cell_type": "markdown",
      "metadata": {
        "id": "Sd6a8o71w_Nb"
      },
      "source": [
        "### Runningn K-fold"
      ]
    },
    {
      "cell_type": "code",
      "execution_count": 44,
      "metadata": {
        "colab": {
          "base_uri": "https://localhost:8080/",
          "height": 1000,
          "referenced_widgets": [
            "ea5466a46a174426a302e61623e50138",
            "5140319441b643de93e3ba0d7854b028",
            "0ae5fd8391c8407680d4ff7a6676b351",
            "360a0043645a4520a148479f548f8e90",
            "3ca8a7f001844e3bb61fb5d5c7c78d89",
            "be328aa6df8747bfa2153739aa6b2572",
            "c3ea1867f1d44778a9380196d1920164",
            "c9aafb599729481fa3c3a3901143b460",
            "710b1d2b788b43c0809aa0485ce21efd",
            "b3f0240b6b9c4f0283fe43d392b2086c",
            "a4c5d289a7064d13a4b0985a788f0b89"
          ]
        },
        "id": "rwSvL2z05DjX",
        "outputId": "8f4d9435-cf6c-43b3-d9b4-ce5e5347de08"
      },
      "outputs": [
        {
          "output_type": "display_data",
          "data": {
            "text/plain": [
              "  0%|          | 0/5 [00:00<?, ?it/s]"
            ],
            "application/vnd.jupyter.widget-view+json": {
              "version_major": 2,
              "version_minor": 0,
              "model_id": "ea5466a46a174426a302e61623e50138"
            }
          },
          "metadata": {}
        },
        {
          "output_type": "stream",
          "name": "stdout",
          "text": [
            "\n",
            "Training the embedding...\n",
            "Epoch 0 loss ===> 143.857513\n",
            "Epoch 1 loss ===> 31.662422\n",
            "Epoch 2 loss ===> 26.109579\n",
            "Epoch 3 loss ===> 25.631451\n",
            "Epoch 4 loss ===> 25.543055\n",
            "Epoch 5 loss ===> 25.540483\n",
            "Epoch 6 loss ===> 25.552347\n",
            "Epoch 7 loss ===> 25.548918\n",
            "Epoch 8 loss ===> 25.551048\n",
            "Epoch 9 loss ===> 25.573065\n",
            "Epoch 10 loss ===> 25.592962\n",
            "Epoch 11 loss ===> 25.631714\n",
            "Epoch 12 loss ===> 25.636208\n",
            "Epoch 13 loss ===> 25.647932\n",
            "Epoch 14 loss ===> 25.689400\n",
            "Epoch 15 loss ===> 25.706757\n",
            "Epoch 16 loss ===> 25.720743\n",
            "Epoch 17 loss ===> 25.724674\n",
            "Epoch 18 loss ===> 25.754221\n",
            "Epoch 19 loss ===> 25.748619\n",
            "Training classfier...\n",
            "Start validation...\n",
            "Average Precision: 0.69\n",
            "ROC_AUC Score:     0.76\n",
            "\n",
            "Training the embedding...\n",
            "Epoch 0 loss ===> 145.523056\n",
            "Epoch 1 loss ===> 31.862297\n",
            "Epoch 2 loss ===> 26.120649\n",
            "Epoch 3 loss ===> 25.627731\n",
            "Epoch 4 loss ===> 25.556915\n",
            "Epoch 5 loss ===> 25.558849\n",
            "Epoch 6 loss ===> 25.535000\n",
            "Epoch 7 loss ===> 25.590586\n",
            "Epoch 8 loss ===> 25.594429\n",
            "Epoch 9 loss ===> 25.614378\n",
            "Epoch 10 loss ===> 25.636385\n",
            "Epoch 11 loss ===> 25.632740\n",
            "Epoch 12 loss ===> 25.675316\n",
            "Epoch 13 loss ===> 25.694731\n",
            "Epoch 14 loss ===> 25.702614\n",
            "Epoch 15 loss ===> 25.727976\n",
            "Epoch 16 loss ===> 25.740723\n",
            "Epoch 17 loss ===> 25.773819\n",
            "Epoch 18 loss ===> 25.787386\n",
            "Epoch 19 loss ===> 25.802658\n",
            "Training classfier...\n",
            "Start validation...\n",
            "Average Precision: 0.69\n",
            "ROC_AUC Score:     0.73\n",
            "\n",
            "Training the embedding...\n",
            "Epoch 0 loss ===> 143.809738\n",
            "Epoch 1 loss ===> 31.629347\n",
            "Epoch 2 loss ===> 26.088234\n",
            "Epoch 3 loss ===> 25.632290\n",
            "Epoch 4 loss ===> 25.546644\n",
            "Epoch 5 loss ===> 25.549564\n",
            "Epoch 6 loss ===> 25.567059\n",
            "Epoch 7 loss ===> 25.569963\n",
            "Epoch 8 loss ===> 25.563974\n",
            "Epoch 9 loss ===> 25.594294\n",
            "Epoch 10 loss ===> 25.616861\n",
            "Epoch 11 loss ===> 25.650961\n",
            "Epoch 12 loss ===> 25.648619\n",
            "Epoch 13 loss ===> 25.692329\n",
            "Epoch 14 loss ===> 25.712738\n",
            "Epoch 15 loss ===> 25.725416\n",
            "Epoch 16 loss ===> 25.751646\n",
            "Epoch 17 loss ===> 25.740950\n",
            "Epoch 18 loss ===> 25.769012\n",
            "Epoch 19 loss ===> 25.791811\n",
            "Training classfier...\n",
            "Start validation...\n",
            "Average Precision: 0.71\n",
            "ROC_AUC Score:     0.70\n",
            "\n",
            "Training the embedding...\n",
            "Epoch 0 loss ===> 144.660675\n",
            "Epoch 1 loss ===> 31.788477\n",
            "Epoch 2 loss ===> 26.092655\n",
            "Epoch 3 loss ===> 25.638563\n",
            "Epoch 4 loss ===> 25.532356\n",
            "Epoch 5 loss ===> 25.530718\n",
            "Epoch 6 loss ===> 25.545881\n",
            "Epoch 7 loss ===> 25.560143\n",
            "Epoch 8 loss ===> 25.583208\n",
            "Epoch 9 loss ===> 25.591408\n",
            "Epoch 10 loss ===> 25.612309\n",
            "Epoch 11 loss ===> 25.640181\n",
            "Epoch 12 loss ===> 25.667057\n",
            "Epoch 13 loss ===> 25.654501\n",
            "Epoch 14 loss ===> 25.707886\n",
            "Epoch 15 loss ===> 25.703058\n",
            "Epoch 16 loss ===> 25.732620\n",
            "Epoch 17 loss ===> 25.739805\n",
            "Epoch 18 loss ===> 25.777866\n",
            "Epoch 19 loss ===> 25.774130\n",
            "Training classfier...\n",
            "Start validation...\n",
            "Average Precision: 0.71\n",
            "ROC_AUC Score:     0.74\n",
            "\n",
            "Training the embedding...\n",
            "Epoch 0 loss ===> 144.370636\n",
            "Epoch 1 loss ===> 31.751501\n",
            "Epoch 2 loss ===> 26.093634\n",
            "Epoch 3 loss ===> 25.636110\n",
            "Epoch 4 loss ===> 25.559097\n",
            "Epoch 5 loss ===> 25.588291\n",
            "Epoch 6 loss ===> 25.576378\n",
            "Epoch 7 loss ===> 25.596409\n",
            "Epoch 8 loss ===> 25.612991\n",
            "Epoch 9 loss ===> 25.582867\n",
            "Epoch 10 loss ===> 25.593117\n",
            "Epoch 11 loss ===> 25.605274\n",
            "Epoch 12 loss ===> 25.602501\n",
            "Epoch 13 loss ===> 25.628918\n",
            "Epoch 14 loss ===> 25.658764\n",
            "Epoch 15 loss ===> 25.688772\n",
            "Epoch 16 loss ===> 25.704723\n",
            "Epoch 17 loss ===> 25.709106\n",
            "Epoch 18 loss ===> 25.741896\n",
            "Epoch 19 loss ===> 25.738434\n",
            "Training classfier...\n",
            "Start validation...\n",
            "Average Precision: 0.67\n",
            "ROC_AUC Score:     0.71\n"
          ]
        }
      ],
      "source": [
        "acc_result, ap_result = cross_validation(kfold_embed, **param)"
      ]
    },
    {
      "cell_type": "code",
      "source": [
        "print(acc_result)\n",
        "print(ap_result)\n",
        "best_fold = np.argmax(acc_result)"
      ],
      "metadata": {
        "colab": {
          "base_uri": "https://localhost:8080/"
        },
        "id": "0kRq7P-vv1uE",
        "outputId": "b6942420-9137-4528-c8f2-d9d360b858fa"
      },
      "execution_count": 27,
      "outputs": [
        {
          "output_type": "stream",
          "name": "stdout",
          "text": [
            "[0.7880561077358121, 0.8048548310328416, 0.7789288014110927, 0.7503989696783044, 0.7473751994848392]\n",
            "[0.7814660563347497, 0.8217842316133537, 0.776491777590084, 0.7767530051257692, 0.7599460033402575]\n"
          ]
        }
      ]
    },
    {
      "cell_type": "markdown",
      "metadata": {
        "id": "ytsYP7_oHh-D"
      },
      "source": [
        "### Finally \n",
        "training the node2vec model"
      ]
    },
    {
      "cell_type": "code",
      "execution_count": null,
      "metadata": {
        "id": "kYkTfL-1GNc3",
        "colab": {
          "base_uri": "https://localhost:8080/"
        },
        "outputId": "eac3cbf0-4852-48bb-a502-bbdd1209c378"
      },
      "outputs": [
        {
          "output_type": "stream",
          "name": "stdout",
          "text": [
            "Training the embedding...\n",
            "Epoch 0 loss ===> 203.985886\n",
            "Epoch 1 loss ===> 48.286148\n",
            "Epoch 2 loss ===> 46.332901\n",
            "Epoch 3 loss ===> 46.475529\n",
            "Epoch 4 loss ===> 46.592655\n",
            "Epoch 5 loss ===> 46.651760\n",
            "Epoch 6 loss ===> 46.740894\n",
            "Epoch 7 loss ===> 46.852264\n",
            "Epoch 8 loss ===> 47.026352\n",
            "Epoch 9 loss ===> 47.116360\n",
            "Epoch 10 loss ===> 47.236557\n",
            "Epoch 11 loss ===> 47.346878\n",
            "Epoch 12 loss ===> 47.507629\n",
            "Epoch 13 loss ===> 47.601158\n",
            "Epoch 14 loss ===> 47.778843\n",
            "Epoch 15 loss ===> 47.806477\n",
            "Epoch 16 loss ===> 47.928375\n",
            "Epoch 17 loss ===> 48.009857\n",
            "Epoch 18 loss ===> 48.127682\n",
            "Epoch 19 loss ===> 48.189510\n"
          ]
        }
      ],
      "source": [
        "graph, pos_samples, neg_samples = kfold_embed.get_fold(best_fold)\n",
        "print(\"Training the embedding...\")\n",
        "n2v = train_embed(edge2index(graph.edges), **param)\n",
        "train_samples = pos_samples + neg_samples"
      ]
    },
    {
      "cell_type": "markdown",
      "source": [
        "Learning the classifier"
      ],
      "metadata": {
        "id": "XxvJwGTjnJjs"
      }
    },
    {
      "cell_type": "code",
      "source": [
        "# create the classifier (ex: logistic regression)\n",
        "# clf = LogisticRegression()\n",
        "clf = LogisticRegression()\n",
        "\n",
        "# train classifier\n",
        "train_X = feature_extraction(train_samples, n2v)\n",
        "train_y = np.array(\n",
        "    [1 for _ in range(len(pos_samples))] + [0 for _ in range(len(neg_samples))]\n",
        ")\n",
        "print(\"Training classfier...\")\n",
        "clf.fit(train_X, train_y)"
      ],
      "metadata": {
        "colab": {
          "base_uri": "https://localhost:8080/"
        },
        "id": "kha0UIimnH8I",
        "outputId": "1ba17461-2382-4a11-fab5-b92e1f4701c0"
      },
      "execution_count": null,
      "outputs": [
        {
          "output_type": "stream",
          "name": "stdout",
          "text": [
            "Training classfier...\n"
          ]
        }
      ]
    },
    {
      "cell_type": "markdown",
      "source": [
        "testing on the final graph"
      ],
      "metadata": {
        "id": "W9qX10d_nM0h"
      }
    },
    {
      "cell_type": "code",
      "source": [
        "# load test data\n",
        "test_df = pd.read_csv(\"/content/gdrive/MyDrive/hw2_data/dataset3/test.csv\")\n",
        "# testing\n",
        "print(\"Start testing...\")\n",
        "valid_samples = ( test_df[['to', 'from']].apply(tuple, axis=1) ).tolist()\n",
        "valid_X = feature_extraction(valid_samples, n2v)\n",
        "outputs = clf.predict_proba(valid_X)\n",
        "test_df.drop(columns=['to', 'from'])\n",
        "test_df['prob'] = pd.Series(outputs[:, 1])\n",
        "# store the csv\n",
        "test_df.to_csv('/content/gdrive/MyDrive/hw2_data/dataset3/upload.csv', index=False)\n",
        "print(\"finish testing\")"
      ],
      "metadata": {
        "colab": {
          "base_uri": "https://localhost:8080/"
        },
        "id": "3G-3zc43nPo9",
        "outputId": "744ab6df-a419-4943-fa89-9a2fe275ce82"
      },
      "execution_count": null,
      "outputs": [
        {
          "output_type": "stream",
          "name": "stdout",
          "text": [
            "Start testing...\n",
            "finish testing\n"
          ]
        }
      ]
    }
  ],
  "metadata": {
    "colab": {
      "provenance": []
    },
    "kernelspec": {
      "display_name": "Python 3",
      "name": "python3"
    },
    "language_info": {
      "name": "python"
    },
    "accelerator": "GPU",
    "gpuClass": "standard",
    "widgets": {
      "application/vnd.jupyter.widget-state+json": {
        "ea5466a46a174426a302e61623e50138": {
          "model_module": "@jupyter-widgets/controls",
          "model_name": "HBoxModel",
          "model_module_version": "1.5.0",
          "state": {
            "_dom_classes": [],
            "_model_module": "@jupyter-widgets/controls",
            "_model_module_version": "1.5.0",
            "_model_name": "HBoxModel",
            "_view_count": null,
            "_view_module": "@jupyter-widgets/controls",
            "_view_module_version": "1.5.0",
            "_view_name": "HBoxView",
            "box_style": "",
            "children": [
              "IPY_MODEL_5140319441b643de93e3ba0d7854b028",
              "IPY_MODEL_0ae5fd8391c8407680d4ff7a6676b351",
              "IPY_MODEL_360a0043645a4520a148479f548f8e90"
            ],
            "layout": "IPY_MODEL_3ca8a7f001844e3bb61fb5d5c7c78d89"
          }
        },
        "5140319441b643de93e3ba0d7854b028": {
          "model_module": "@jupyter-widgets/controls",
          "model_name": "HTMLModel",
          "model_module_version": "1.5.0",
          "state": {
            "_dom_classes": [],
            "_model_module": "@jupyter-widgets/controls",
            "_model_module_version": "1.5.0",
            "_model_name": "HTMLModel",
            "_view_count": null,
            "_view_module": "@jupyter-widgets/controls",
            "_view_module_version": "1.5.0",
            "_view_name": "HTMLView",
            "description": "",
            "description_tooltip": null,
            "layout": "IPY_MODEL_be328aa6df8747bfa2153739aa6b2572",
            "placeholder": "​",
            "style": "IPY_MODEL_c3ea1867f1d44778a9380196d1920164",
            "value": "100%"
          }
        },
        "0ae5fd8391c8407680d4ff7a6676b351": {
          "model_module": "@jupyter-widgets/controls",
          "model_name": "FloatProgressModel",
          "model_module_version": "1.5.0",
          "state": {
            "_dom_classes": [],
            "_model_module": "@jupyter-widgets/controls",
            "_model_module_version": "1.5.0",
            "_model_name": "FloatProgressModel",
            "_view_count": null,
            "_view_module": "@jupyter-widgets/controls",
            "_view_module_version": "1.5.0",
            "_view_name": "ProgressView",
            "bar_style": "success",
            "description": "",
            "description_tooltip": null,
            "layout": "IPY_MODEL_c9aafb599729481fa3c3a3901143b460",
            "max": 5,
            "min": 0,
            "orientation": "horizontal",
            "style": "IPY_MODEL_710b1d2b788b43c0809aa0485ce21efd",
            "value": 5
          }
        },
        "360a0043645a4520a148479f548f8e90": {
          "model_module": "@jupyter-widgets/controls",
          "model_name": "HTMLModel",
          "model_module_version": "1.5.0",
          "state": {
            "_dom_classes": [],
            "_model_module": "@jupyter-widgets/controls",
            "_model_module_version": "1.5.0",
            "_model_name": "HTMLModel",
            "_view_count": null,
            "_view_module": "@jupyter-widgets/controls",
            "_view_module_version": "1.5.0",
            "_view_name": "HTMLView",
            "description": "",
            "description_tooltip": null,
            "layout": "IPY_MODEL_b3f0240b6b9c4f0283fe43d392b2086c",
            "placeholder": "​",
            "style": "IPY_MODEL_a4c5d289a7064d13a4b0985a788f0b89",
            "value": " 5/5 [02:08&lt;00:00, 25.10s/it]"
          }
        },
        "3ca8a7f001844e3bb61fb5d5c7c78d89": {
          "model_module": "@jupyter-widgets/base",
          "model_name": "LayoutModel",
          "model_module_version": "1.2.0",
          "state": {
            "_model_module": "@jupyter-widgets/base",
            "_model_module_version": "1.2.0",
            "_model_name": "LayoutModel",
            "_view_count": null,
            "_view_module": "@jupyter-widgets/base",
            "_view_module_version": "1.2.0",
            "_view_name": "LayoutView",
            "align_content": null,
            "align_items": null,
            "align_self": null,
            "border": null,
            "bottom": null,
            "display": null,
            "flex": null,
            "flex_flow": null,
            "grid_area": null,
            "grid_auto_columns": null,
            "grid_auto_flow": null,
            "grid_auto_rows": null,
            "grid_column": null,
            "grid_gap": null,
            "grid_row": null,
            "grid_template_areas": null,
            "grid_template_columns": null,
            "grid_template_rows": null,
            "height": null,
            "justify_content": null,
            "justify_items": null,
            "left": null,
            "margin": null,
            "max_height": null,
            "max_width": null,
            "min_height": null,
            "min_width": null,
            "object_fit": null,
            "object_position": null,
            "order": null,
            "overflow": null,
            "overflow_x": null,
            "overflow_y": null,
            "padding": null,
            "right": null,
            "top": null,
            "visibility": null,
            "width": null
          }
        },
        "be328aa6df8747bfa2153739aa6b2572": {
          "model_module": "@jupyter-widgets/base",
          "model_name": "LayoutModel",
          "model_module_version": "1.2.0",
          "state": {
            "_model_module": "@jupyter-widgets/base",
            "_model_module_version": "1.2.0",
            "_model_name": "LayoutModel",
            "_view_count": null,
            "_view_module": "@jupyter-widgets/base",
            "_view_module_version": "1.2.0",
            "_view_name": "LayoutView",
            "align_content": null,
            "align_items": null,
            "align_self": null,
            "border": null,
            "bottom": null,
            "display": null,
            "flex": null,
            "flex_flow": null,
            "grid_area": null,
            "grid_auto_columns": null,
            "grid_auto_flow": null,
            "grid_auto_rows": null,
            "grid_column": null,
            "grid_gap": null,
            "grid_row": null,
            "grid_template_areas": null,
            "grid_template_columns": null,
            "grid_template_rows": null,
            "height": null,
            "justify_content": null,
            "justify_items": null,
            "left": null,
            "margin": null,
            "max_height": null,
            "max_width": null,
            "min_height": null,
            "min_width": null,
            "object_fit": null,
            "object_position": null,
            "order": null,
            "overflow": null,
            "overflow_x": null,
            "overflow_y": null,
            "padding": null,
            "right": null,
            "top": null,
            "visibility": null,
            "width": null
          }
        },
        "c3ea1867f1d44778a9380196d1920164": {
          "model_module": "@jupyter-widgets/controls",
          "model_name": "DescriptionStyleModel",
          "model_module_version": "1.5.0",
          "state": {
            "_model_module": "@jupyter-widgets/controls",
            "_model_module_version": "1.5.0",
            "_model_name": "DescriptionStyleModel",
            "_view_count": null,
            "_view_module": "@jupyter-widgets/base",
            "_view_module_version": "1.2.0",
            "_view_name": "StyleView",
            "description_width": ""
          }
        },
        "c9aafb599729481fa3c3a3901143b460": {
          "model_module": "@jupyter-widgets/base",
          "model_name": "LayoutModel",
          "model_module_version": "1.2.0",
          "state": {
            "_model_module": "@jupyter-widgets/base",
            "_model_module_version": "1.2.0",
            "_model_name": "LayoutModel",
            "_view_count": null,
            "_view_module": "@jupyter-widgets/base",
            "_view_module_version": "1.2.0",
            "_view_name": "LayoutView",
            "align_content": null,
            "align_items": null,
            "align_self": null,
            "border": null,
            "bottom": null,
            "display": null,
            "flex": null,
            "flex_flow": null,
            "grid_area": null,
            "grid_auto_columns": null,
            "grid_auto_flow": null,
            "grid_auto_rows": null,
            "grid_column": null,
            "grid_gap": null,
            "grid_row": null,
            "grid_template_areas": null,
            "grid_template_columns": null,
            "grid_template_rows": null,
            "height": null,
            "justify_content": null,
            "justify_items": null,
            "left": null,
            "margin": null,
            "max_height": null,
            "max_width": null,
            "min_height": null,
            "min_width": null,
            "object_fit": null,
            "object_position": null,
            "order": null,
            "overflow": null,
            "overflow_x": null,
            "overflow_y": null,
            "padding": null,
            "right": null,
            "top": null,
            "visibility": null,
            "width": null
          }
        },
        "710b1d2b788b43c0809aa0485ce21efd": {
          "model_module": "@jupyter-widgets/controls",
          "model_name": "ProgressStyleModel",
          "model_module_version": "1.5.0",
          "state": {
            "_model_module": "@jupyter-widgets/controls",
            "_model_module_version": "1.5.0",
            "_model_name": "ProgressStyleModel",
            "_view_count": null,
            "_view_module": "@jupyter-widgets/base",
            "_view_module_version": "1.2.0",
            "_view_name": "StyleView",
            "bar_color": null,
            "description_width": ""
          }
        },
        "b3f0240b6b9c4f0283fe43d392b2086c": {
          "model_module": "@jupyter-widgets/base",
          "model_name": "LayoutModel",
          "model_module_version": "1.2.0",
          "state": {
            "_model_module": "@jupyter-widgets/base",
            "_model_module_version": "1.2.0",
            "_model_name": "LayoutModel",
            "_view_count": null,
            "_view_module": "@jupyter-widgets/base",
            "_view_module_version": "1.2.0",
            "_view_name": "LayoutView",
            "align_content": null,
            "align_items": null,
            "align_self": null,
            "border": null,
            "bottom": null,
            "display": null,
            "flex": null,
            "flex_flow": null,
            "grid_area": null,
            "grid_auto_columns": null,
            "grid_auto_flow": null,
            "grid_auto_rows": null,
            "grid_column": null,
            "grid_gap": null,
            "grid_row": null,
            "grid_template_areas": null,
            "grid_template_columns": null,
            "grid_template_rows": null,
            "height": null,
            "justify_content": null,
            "justify_items": null,
            "left": null,
            "margin": null,
            "max_height": null,
            "max_width": null,
            "min_height": null,
            "min_width": null,
            "object_fit": null,
            "object_position": null,
            "order": null,
            "overflow": null,
            "overflow_x": null,
            "overflow_y": null,
            "padding": null,
            "right": null,
            "top": null,
            "visibility": null,
            "width": null
          }
        },
        "a4c5d289a7064d13a4b0985a788f0b89": {
          "model_module": "@jupyter-widgets/controls",
          "model_name": "DescriptionStyleModel",
          "model_module_version": "1.5.0",
          "state": {
            "_model_module": "@jupyter-widgets/controls",
            "_model_module_version": "1.5.0",
            "_model_name": "DescriptionStyleModel",
            "_view_count": null,
            "_view_module": "@jupyter-widgets/base",
            "_view_module_version": "1.2.0",
            "_view_name": "StyleView",
            "description_width": ""
          }
        }
      }
    }
  },
  "nbformat": 4,
  "nbformat_minor": 0
}